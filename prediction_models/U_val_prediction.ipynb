{
 "cells": [
  {
   "cell_type": "code",
   "execution_count": 40,
   "metadata": {},
   "outputs": [],
   "source": [
    "import tensorflow as tf\n",
    "import tensorflow.keras as ks\n",
    "import numpy as np\n",
    "import scipy.stats as sp\n",
    "from tensorflow.keras import layers\n",
    "from tensorflow.keras import models\n",
    "from sklearn.utils import shuffle\n",
    "from keras import backend as K"
   ]
  },
  {
   "cell_type": "code",
   "execution_count": 41,
   "metadata": {},
   "outputs": [],
   "source": [
    "full_data = np.genfromtxt('U_data.csv', delimiter= ',', skip_header=1)"
   ]
  },
  {
   "cell_type": "code",
   "execution_count": 42,
   "metadata": {},
   "outputs": [
    {
     "output_type": "stream",
     "name": "stdout",
     "text": [
      "[[-8.50962943e-01 -5.13477022e-01  1.16074088e+00  1.89891485e+00\n   1.21863649e+00  3.57598923e-01 -5.21047095e-01]\n [-8.50962943e-01 -2.95833274e-02  2.32223605e-01  1.99319408e+00\n   2.20131345e+00  7.94207521e-01 -6.26075592e-01]\n [-8.50962943e-01 -1.26769185e+00 -6.89307328e-01  4.45757275e-01\n   1.21863649e+00  1.29629944e-01 -6.26075592e-01]\n [-8.50962943e-01 -7.75989320e-01  6.67178627e-03  3.96536113e-01\n  -5.22064636e-01  1.20237719e+00  1.62105243e+00]\n [-8.50962943e-01 -1.72791893e-01  2.67422727e-01  2.75260843e-01\n  -6.62314465e-01  1.08747225e-01 -4.69395392e-01]\n [-8.50962943e-01 -3.42329057e-01  3.69623630e-01  3.68893907e-01\n  -9.77019434e-02  2.88018664e-01 -3.95879259e-01]\n [-8.50962943e-01 -9.62355867e-02 -9.75192922e-01  8.83368598e-02\n   1.30056751e-02 -2.14627337e-01 -4.79312071e-01]\n [-8.50962943e-01  3.64362903e-01 -1.83217262e+00  4.93557564e-01\n   5.78311734e-01 -3.81887988e-01 -5.38276921e-01]\n [-8.50962943e-01  3.39356943e-01  1.74175804e-01  2.49068121e-01\n  -3.46138556e-02  1.12173958e-01 -5.15560276e-01]\n [-8.50962943e-01 -1.25606244e+00 -2.61682336e+00  2.99006675e+00\n   2.20131345e+00  2.16676073e-01 -6.26075592e-01]\n [-8.50962943e-01 -1.29292297e+00 -2.61052706e+00  1.72840690e+00\n   1.21863649e+00  1.78403981e+00 -6.26075592e-01]\n [-8.50962943e-01 -9.62355867e-02  2.23470790e-01  2.67637222e-01\n  -1.14687651e-01 -2.03195907e-01 -7.78763248e-02]\n [-8.50962943e-01  7.32344285e-01  1.82987471e-01  1.58808741e+00\n   2.20131345e+00  7.24797518e-02 -5.19273049e-01]\n [-8.50962943e-01 -6.01228331e-01 -3.83587042e-01 -7.73542931e-01\n   1.21863649e+00 -4.84021099e-02 -6.26075592e-01]\n [-8.50962943e-01 -4.72891441e-01 -6.28928841e-01  2.55371006e-01\n   1.21863649e+00  3.43934319e-01 -6.26075592e-01]\n [ 1.17513930e+00 -5.54618413e-01  6.66848850e-01 -2.51862027e-01\n  -3.66516521e-01  1.82110039e-01 -5.73014918e-01]\n [ 1.17513930e+00  9.92168594e-01  3.04527122e-01 -3.05613959e-02\n  -1.40713792e+00 -1.39771182e+00 -5.70666249e-01]\n [-8.50962943e-01 -1.40221257e+00 -2.96860047e+00  1.23684796e+00\n   6.32844501e-01  1.94892753e+00  4.13739315e+00]\n [-8.50962943e-01 -1.61716208e+00  9.50752404e-02 -8.92706747e-01\n  -8.70116768e-01  1.73022380e+00 -6.19821654e-01]\n [-8.50962943e-01 -2.43702398e-02  1.91673876e-01 -8.54785783e-01\n  -8.70116768e-01 -5.93482063e-01 -1.16277779e-01]\n [-8.50962943e-01  4.46629998e-02  3.95017100e-02  5.27109858e-02\n  -8.13290128e-01 -1.38606839e+00 -5.63866854e-01]\n [-8.50962943e-01  1.38117289e+00 -3.25153355e-01 -2.13562811e-01\n  -6.68921069e-01 -1.12480880e+00  2.41977472e-01]\n [-8.50962943e-01  2.93822346e-02 -1.85655078e-01  4.22121438e-01\n  -8.23460500e-01 -1.25961610e+00  9.08912442e-02]\n [-8.50962943e-01  1.09121169e+00  1.04044174e-01 -1.27100245e+00\n  -6.88190121e-01 -6.46605862e-01 -6.23860470e-01]\n [-8.50962943e-01 -8.14533591e-01  9.79966855e-02 -7.79235759e-01\n  -9.05322059e-01 -5.47772430e-01 -4.73693665e-01]\n [-8.50962943e-01 -6.63438277e-02  9.62327678e-01 -2.14295073e-01\n  -9.12392660e-01 -6.92359901e-01  1.37173324e+00]\n [-8.50962943e-01  3.26179138e-01  5.96171709e-01 -6.83313808e-01\n  -7.66149620e-01 -7.97641421e-02  6.85809609e-01]\n [-8.50962943e-01  1.55770649e-01  2.37188958e-01 -6.81311163e-01\n  -7.32579720e-01 -1.38878921e+00 -4.52648483e-01]\n [-8.50962943e-01  5.78201742e-01  2.03619847e-01 -7.20665814e-01\n  -6.88190121e-01 -1.34829591e+00 -4.98965026e-01]\n [ 1.17513930e+00  1.86593665e+00  9.62017799e-01 -1.21126801e+00\n   2.63152823e-01  3.37009107e-03 -4.88104872e-01]\n [ 1.17513930e+00 -4.52137141e-01 -3.86650269e-01 -1.50835998e+00\n  -6.20130346e-02 -4.59076293e-01 -5.38149885e-01]\n [ 1.17513930e+00 -6.08431256e-01  5.04012575e-01 -2.04846919e-01\n  -8.69947526e-01 -2.03256061e-01 -6.16849614e-01]\n [ 1.17513930e+00  2.28164178e-01  8.83394336e-01  7.62658569e-02\n  -3.15377452e+00  6.95195824e-01 -6.26075592e-01]\n [ 1.17513930e+00  2.38411101e-01  8.01189536e-01 -1.28062294e+00\n  -2.74132385e-01  1.94500561e+00  2.96513420e-01]\n [-8.50962943e-01 -1.29292297e+00 -2.61052706e+00  1.72840690e+00\n   1.21863649e+00  1.78406675e+00 -6.26075592e-01]\n [ 1.17513930e+00  2.38411101e-01  8.01189536e-01 -1.28062294e+00\n  -2.74132385e-01  1.94194414e+00  2.77600853e-01]\n [ 1.17513930e+00  1.31809268e+00  8.35543634e-01  1.06432995e-02\n  -2.91384701e-01 -7.48165491e-02 -2.14829267e-01]\n [ 1.17513930e+00 -5.97751373e-02  3.01628455e-01 -1.35341504e+00\n  -5.19672732e-01 -4.11018139e-01 -5.19868767e-01]\n [ 1.17513930e+00  1.42450740e+00  4.16853037e-01 -1.20549589e+00\n   6.32844501e-01 -1.19715896e+00 -4.38974200e-01]\n [ 1.17513930e+00 -6.35883876e-01 -8.14746923e-04 -2.59470956e-01\n   5.78311734e-01 -3.10386625e-01  1.10248442e-01]\n [ 1.17513930e+00 -9.00634081e-01  8.66217411e-01  2.08278121e-02\n  -4.08714217e-01  1.06271218e+00 -2.76765879e-01]\n [ 1.17513930e+00  1.65947996e+00  1.12459770e+00  1.24368069e+00\n  -1.14687651e-01 -7.67681587e-01  1.86398044e-01]\n [ 1.17513930e+00  1.06934397e+00  5.74283365e-01  3.43366508e-01\n  -1.14687651e-01 -1.10527572e+00  1.49069770e+00]\n [ 1.17513930e+00  1.89224550e-01 -5.83065971e-01 -9.47072641e-01\n   6.32844501e-01  1.27806327e-01 -6.26075592e-01]\n [-8.50962943e-01 -8.06390154e-01 -3.98350253e-01 -5.98919114e-01\n   1.21863649e+00 -2.15769673e-01 -5.18877356e-01]\n [ 1.17513930e+00  4.82194295e-01  3.31543650e-01 -5.71186427e-01\n  -7.95911475e-01 -1.20323556e+00  1.50758689e+00]\n [ 1.17513930e+00 -8.27047002e-01  8.81999629e-01  4.41120675e-02\n  -4.32344925e-01  1.12420362e+00  1.21756171e+00]\n [ 1.17513930e+00  4.59134634e-02  1.26403742e+00  5.87201228e-01\n  -4.76230535e-01 -1.18477014e+00  1.60999024e+00]\n [ 1.17513930e+00 -1.54020925e+00 -6.59519463e-01 -1.44843817e+00\n   6.32844501e-01  1.79646229e+00 -6.26075592e-01]\n [ 1.17513930e+00  3.72561699e+00  1.19007521e+00  4.31291132e-01\n   6.32844501e-01 -1.30607832e+00  3.03715680e+00]] [-2.75 -1.73 -1.82 -2.34 -2.38 -2.39 -2.68 -2.22 -1.99 -2.6  -3.5  -0.37\n -0.39 -2.18 -1.32 -2.57 -0.25 -2.35 -1.03 -0.66 -1.04  0.98 -0.2  -0.94\n  0.   -1.98 -0.62 -0.6  -0.2   1.18 -0.44 -0.86 -0.9   1.04 -1.58 -0.98\n  0.44 -1.11  0.66 -1.02 -0.34  0.41  0.14 -1.56 -2.46  0.2  -1.19  0.41\n  0.29 -1.41]\n"
     ]
    }
   ],
   "source": [
    "training_set = full_data[:,:7]\n",
    "training_targets = full_data[:,8]\n",
    "\n",
    "##normalizing data\n",
    "mean = training_set.mean(axis=0)\n",
    "training_set -= mean\n",
    "std = training_set.std(axis=0)\n",
    "training_set /= std\n",
    "\n",
    "print(training_set, training_targets)"
   ]
  },
  {
   "cell_type": "code",
   "execution_count": 43,
   "metadata": {},
   "outputs": [],
   "source": [
    "avg_scores = []\n",
    "epochs = []\n",
    "avg_scores.clear()\n",
    "epochs.clear()"
   ]
  },
  {
   "cell_type": "code",
   "execution_count": 44,
   "metadata": {},
   "outputs": [],
   "source": [
    "def coeff_determination(y_true, y_pred):\n",
    "    from keras import backend as K\n",
    "    SS_res =  K.sum(K.square( y_true-y_pred ))\n",
    "    SS_tot = K.sum(K.square( y_true - K.mean(y_true) ) )\n",
    "    return ( 1 - SS_res/(SS_tot + K.epsilon()) )"
   ]
  },
  {
   "cell_type": "code",
   "execution_count": 45,
   "metadata": {},
   "outputs": [],
   "source": [
    "def build_model():\n",
    "    model = models.Sequential()\n",
    "    model.add(layers.Dense(16, activation='relu',\n",
    "                           input_shape=(training_set.shape[1],)))\n",
    "    model.add(layers.Dense(1))\n",
    "    model.compile(optimizer='rmsprop', loss='mse', metrics=[coeff_determination])\n",
    "    return model"
   ]
  },
  {
   "cell_type": "code",
   "execution_count": 48,
   "metadata": {
    "scrolled": false
   },
   "outputs": [
    {
     "output_type": "stream",
     "name": "stdout",
     "text": [
      "processing iteration # 0 fold # 0\n",
      "processing iteration # 0 fold # 1\n",
      "processing iteration # 0 fold # 2\n",
      "processing iteration # 0 fold # 3\n",
      "processing iteration # 0 fold # 4\n",
      "processing iteration # 1 fold # 0\n",
      "processing iteration # 1 fold # 1\n",
      "processing iteration # 1 fold # 2\n",
      "processing iteration # 1 fold # 3\n",
      "processing iteration # 1 fold # 4\n",
      "processing iteration # 2 fold # 0\n",
      "processing iteration # 2 fold # 1\n",
      "processing iteration # 2 fold # 2\n",
      "processing iteration # 2 fold # 3\n",
      "processing iteration # 2 fold # 4\n",
      "processing iteration # 3 fold # 0\n",
      "processing iteration # 3 fold # 1\n",
      "processing iteration # 3 fold # 2\n",
      "processing iteration # 3 fold # 3\n",
      "processing iteration # 3 fold # 4\n",
      "[-0.23471474647521973, -0.6448005437850952, -0.34502291679382324, -0.11113011837005615, -0.38053643703460693, -2.0309934616088867, -1.391012191772461, -2.3879570960998535, -1.3952805995941162, -2.0444908142089844, -0.33917856216430664, -0.7163002490997314, -0.3176114559173584, -0.5476243495941162, -0.73769211769104, -0.0620197057723999, -0.3933943510055542, 0.008630514144897461, -0.3612067699432373, 0.2887116074562073]\n",
      "-0.7071812182664872\n"
     ]
    }
   ],
   "source": [
    "# Disabling iteration warning\n",
    "tf.get_logger().setLevel('ERROR')\n",
    "\n",
    "# Establishing parameters\n",
    "iterations = 4\n",
    "folds = 5\n",
    "epochs1 = 100\n",
    "samples = len(training_set) // folds\n",
    "test_scores = []\n",
    "\n",
    "for i in range(iterations):\n",
    "        # Shuffling data\n",
    "        training_set, training_targets = shuffle(training_set, training_targets)\n",
    "\n",
    "        for k in range(folds):\n",
    "            # Running folds\n",
    "            print('processing iteration #', i, 'fold #', k)\n",
    "            # Preping validation data from partition k\n",
    "            val_data = training_set[i * samples: (i + 1) * samples]\n",
    "            val_targets = training_targets[i * samples: (i + 1) * samples]\n",
    "\n",
    "            # Preping training data\n",
    "            partial_training_data = np.concatenate([training_set[:i * samples],\n",
    "                                                    training_set[(i + 1) * samples:]],\n",
    "                                                   axis=0)\n",
    "            partial_training_targets = np.concatenate([training_targets[:i * samples],\n",
    "                                                       training_targets[(i + 1) * samples:]],\n",
    "                                                      axis=0)\n",
    "            # Building model\n",
    "            model = build_model()\n",
    "            # Training\n",
    "            model.fit(partial_training_data, partial_training_targets, epochs=epochs1, batch_size=1, verbose=0)\n",
    "            # Eval model\n",
    "            val_mse, val_r2 = model.evaluate(val_data, val_targets, verbose=0)\n",
    "            test_scores.append(val_r2)\n",
    "\n",
    "print(test_scores)\n",
    "print(np.mean(test_scores))"
   ]
  },
  {
   "cell_type": "code",
   "execution_count": 1,
   "metadata": {
    "scrolled": true
   },
   "outputs": [
    {
     "output_type": "error",
     "ename": "NameError",
     "evalue": "name 'training_set' is not defined",
     "traceback": [
      "\u001b[0;31m---------------------------------------------------------------------------\u001b[0m",
      "\u001b[0;31mNameError\u001b[0m                                 Traceback (most recent call last)",
      "\u001b[0;32m<ipython-input-1-576c1eaa3fef>\u001b[0m in \u001b[0;36m<module>\u001b[0;34m\u001b[0m\n\u001b[1;32m      1\u001b[0m \u001b[0mI\u001b[0m \u001b[0;34m=\u001b[0m \u001b[0;36m4\u001b[0m\u001b[0;34m\u001b[0m\u001b[0;34m\u001b[0m\u001b[0m\n\u001b[1;32m      2\u001b[0m \u001b[0mk\u001b[0m \u001b[0;34m=\u001b[0m \u001b[0;36m5\u001b[0m\u001b[0;34m\u001b[0m\u001b[0;34m\u001b[0m\u001b[0m\n\u001b[0;32m----> 3\u001b[0;31m \u001b[0mnum_val_samples\u001b[0m \u001b[0;34m=\u001b[0m \u001b[0mlen\u001b[0m\u001b[0;34m(\u001b[0m\u001b[0mtraining_set\u001b[0m\u001b[0;34m)\u001b[0m \u001b[0;34m//\u001b[0m \u001b[0mk\u001b[0m\u001b[0;34m\u001b[0m\u001b[0;34m\u001b[0m\u001b[0m\n\u001b[0m\u001b[1;32m      4\u001b[0m \u001b[0mnum_epocs\u001b[0m \u001b[0;34m=\u001b[0m \u001b[0;36m0\u001b[0m\u001b[0;34m\u001b[0m\u001b[0;34m\u001b[0m\u001b[0m\n\u001b[1;32m      5\u001b[0m \u001b[0mall_scores\u001b[0m \u001b[0;34m=\u001b[0m \u001b[0mnp\u001b[0m\u001b[0;34m.\u001b[0m\u001b[0mzeros\u001b[0m\u001b[0;34m(\u001b[0m\u001b[0;34m(\u001b[0m\u001b[0mI\u001b[0m\u001b[0;34m,\u001b[0m\u001b[0mk\u001b[0m\u001b[0;34m)\u001b[0m\u001b[0;34m)\u001b[0m\u001b[0;34m\u001b[0m\u001b[0;34m\u001b[0m\u001b[0m\n",
      "\u001b[0;31mNameError\u001b[0m: name 'training_set' is not defined"
     ]
    }
   ],
   "source": [
    "I = 4\n",
    "k = 5\n",
    "num_val_samples = len(training_set) // k\n",
    "num_epocs = 0\n",
    "all_scores = np.zeros((I,k))\n",
    "\n",
    "## epochs\n",
    "for l in range(0, 510, 10):\n",
    "    print(l)\n",
    "    num_epochs = l\n",
    "    \n",
    "    ## iterations\n",
    "    for i in range(I):\n",
    "    \n",
    "        ##shuffle\n",
    "        training_set, training_targets = shuffle(training_set, training_targets)\n",
    "        epochs.append(num_epochs)\n",
    "        ##kfold\n",
    "        for j in range(k):\n",
    "            print('processing fold #', i, j)\n",
    "            ##preping validation data from partition k\n",
    "            val_data = training_set[i * num_val_samples: (i + 1) * num_val_samples]\n",
    "            val_targets = training_targets[i * num_val_samples: (i + 1) * num_val_samples]\n",
    "    \n",
    "            ##preping training data\n",
    "            partial_training_data = np.concatenate(\n",
    "                [training_set[:i * num_val_samples], training_set[(i + 1) * num_val_samples:]],\n",
    "                axis=0)\n",
    "            partial_training_targets = np.concatenate([training_targets[:i * num_val_samples],\n",
    "                                                       training_targets[(i + 1) * num_val_samples:]],\n",
    "                axis=0)\n",
    "            ##building model\n",
    "            model = build_model()\n",
    "            ##training\n",
    "            model.fit(partial_training_data, partial_training_targets, epochs=num_epochs, \n",
    "                     batch_size=1, verbose=0)\n",
    "            ##eval model\n",
    "            val_mse, val_mae = model.evaluate(val_data, val_targets, verbose=0)\n",
    "            all_scores[i,j] = val_mae\n",
    "        \n",
    "   \n",
    "    avg_scores.append(np.mean(all_scores))\n",
    "    K.clear_session()"
   ]
  },
  {
   "cell_type": "code",
   "execution_count": 67,
   "metadata": {},
   "outputs": [],
   "source": [
    "np.savetxt('epochs_mse.csv', avg_scores, delimiter = ',')"
   ]
  },
  {
   "cell_type": "code",
   "execution_count": 78,
   "metadata": {},
   "outputs": [
    {
     "name": "stdout",
     "output_type": "stream",
     "text": [
      "[1.3154236483573913, 1.2452007126808167, 0.9937431287765502, 1.0201528668403625, 0.9002940249443054, 1.0086400771141053, 0.9118633246421814, 1.0320078945159912, 1.17739084482193, 1.2367029857635499, 1.2024519181251525, 1.4652047872543335, 1.2756471967697143, 1.1543644618988038, 1.2361523842811584, 1.2499642062187195, 1.3314559435844422, 1.2312595438957215, 1.3768889236450195, 1.11907634973526, 1.256639714241028, 1.2209944891929627, 1.4934797286987305, 1.077083601951599, 1.3171460461616515, 1.3143272924423217, 1.3975246906280518, 1.2318320965766907, 1.390233073234558, 1.2600756144523622, 1.2344583344459534, 1.3454228043556213, 1.2583733415603637, 1.2862572693824768, 1.396613326072693, 1.3211496043205262, 1.2830338525772094, 1.447605471611023, 1.5088414239883423, 1.1342147207260131, 1.2516705513000488, 1.5237915515899658, 1.3429363179206848, 1.353007366657257, 1.388656449317932, 1.4253694915771484, 1.3405800223350526, 1.2291140270233154, 1.2311745691299438, 1.3728238487243651, 1.3077250027656555]\n"
     ]
    },
    {
     "data": {
      "text/plain": [
       "51"
      ]
     },
     "execution_count": 78,
     "metadata": {},
     "output_type": "execute_result"
    }
   ],
   "source": [
    "print(avg_scores)\n",
    "len(avg_scores)\n",
    "epochs = range(0, 510, 10)\n",
    "len(epochs)"
   ]
  },
  {
   "cell_type": "code",
   "execution_count": 79,
   "metadata": {},
   "outputs": [
    {
     "data": {
      "image/png": "[encoded data removed]",
      "text/plain": [
       "<Figure size 432x288 with 1 Axes>"
      ]
     },
     "metadata": {
      "needs_background": "light"
     },
     "output_type": "display_data"
    }
   ],
   "source": [
    "import matplotlib.pyplot as plt\n",
    "plt.plot(epochs, avg_scores)\n",
    "plt.xlabel('Epochs')\n",
    "plt.ylabel('Validation MAE')\n",
    "plt.show()\n",
    "plt.savefig('epochs_unsmothed')"
   ]
  },
  {
   "cell_type": "code",
   "execution_count": 80,
   "metadata": {
    "pycharm": {
     "name": "#%%\n"
    }
   },
   "outputs": [],
   "source": [
    "def smooth_curve(points, factor=0.9):\n",
    "    smoothed_points = []\n",
    "    for point in points:\n",
    "        if smoothed_points:\n",
    "            previous = smoothed_points[-1]\n",
    "            smoothed_points.append(previous * factor + point * (1 - factor))\n",
    "        else:\n",
    "            smoothed_points.append(point)\n",
    "    return smoothed_points\n"
   ]
  }
 ],
 "metadata": {
  "kernelspec": {
   "name": "python392jvsc74a57bd041333e5f0428ac6d2aacab422c5df892eed77e8975aaaede6310e422d095fa23",
   "display_name": "Python 3.9.2 64-bit ('tfgpu': conda)"
  },
  "language_info": {
   "codemirror_mode": {
    "name": "ipython",
    "version": 3
   },
   "file_extension": ".py",
   "mimetype": "text/x-python",
   "name": "python",
   "nbconvert_exporter": "python",
   "pygments_lexer": "ipython3",
   "version": "3.9.2"
  },
  "metadata": {
   "interpreter": {
    "hash": "41333e5f0428ac6d2aacab422c5df892eed77e8975aaaede6310e422d095fa23"
   }
  }
 },
 "nbformat": 4,
 "nbformat_minor": 4
}